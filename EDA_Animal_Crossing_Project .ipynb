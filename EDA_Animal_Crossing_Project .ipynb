{
 "cells": [
  {
   "cell_type": "code",
   "execution_count": 41,
   "id": "64a2f47b",
   "metadata": {},
   "outputs": [],
   "source": [
    "import numpy as np \n",
    "import pandas as pd \n",
    "import matplotlib.pyplot as plt \n",
    "%matplotlib Inline \n",
    "import seaborn as sns "
   ]
  },
  {
   "cell_type": "code",
   "execution_count": 42,
   "id": "855a9b87",
   "metadata": {},
   "outputs": [],
   "source": [
    "df = pd.read_excel('Animal_Crossing_CSV1.xlsx')"
   ]
  },
  {
   "cell_type": "code",
   "execution_count": 43,
   "id": "e53ba928",
   "metadata": {},
   "outputs": [
    {
     "name": "stdout",
     "output_type": "stream",
     "text": [
      "<class 'pandas.core.frame.DataFrame'>\n",
      "RangeIndex: 10083 entries, 0 to 10082\n",
      "Data columns (total 8 columns):\n",
      " #   Column     Non-Null Count  Dtype  \n",
      "---  ------     --------------  -----  \n",
      " 0   Name       10075 non-null  object \n",
      " 1   Variation  8738 non-null   object \n",
      " 2   DIY        10075 non-null  object \n",
      " 3   Buy        10075 non-null  object \n",
      " 4   Sell       10075 non-null  float64\n",
      " 5   Category   10083 non-null  object \n",
      " 6   Source     10083 non-null  object \n",
      " 7   Catalog    10083 non-null  object \n",
      "dtypes: float64(1), object(7)\n",
      "memory usage: 630.3+ KB\n"
     ]
    }
   ],
   "source": [
    "df.info()"
   ]
  },
  {
   "cell_type": "code",
   "execution_count": 44,
   "id": "3fdbbb6f",
   "metadata": {},
   "outputs": [
    {
     "data": {
      "text/html": [
       "<div>\n",
       "<style scoped>\n",
       "    .dataframe tbody tr th:only-of-type {\n",
       "        vertical-align: middle;\n",
       "    }\n",
       "\n",
       "    .dataframe tbody tr th {\n",
       "        vertical-align: top;\n",
       "    }\n",
       "\n",
       "    .dataframe thead th {\n",
       "        text-align: right;\n",
       "    }\n",
       "</style>\n",
       "<table border=\"1\" class=\"dataframe\">\n",
       "  <thead>\n",
       "    <tr style=\"text-align: right;\">\n",
       "      <th></th>\n",
       "      <th>Name</th>\n",
       "      <th>Variation</th>\n",
       "      <th>DIY</th>\n",
       "      <th>Buy</th>\n",
       "      <th>Sell</th>\n",
       "      <th>Category</th>\n",
       "      <th>Source</th>\n",
       "      <th>Catalog</th>\n",
       "    </tr>\n",
       "  </thead>\n",
       "  <tbody>\n",
       "    <tr>\n",
       "      <th>0</th>\n",
       "      <td>3Dglasses</td>\n",
       "      <td>White</td>\n",
       "      <td>No</td>\n",
       "      <td>490</td>\n",
       "      <td>122.0</td>\n",
       "      <td>Accessories</td>\n",
       "      <td>AbleSisters</td>\n",
       "      <td>ForSale</td>\n",
       "    </tr>\n",
       "    <tr>\n",
       "      <th>1</th>\n",
       "      <td>3Dglasses</td>\n",
       "      <td>Black</td>\n",
       "      <td>No</td>\n",
       "      <td>490</td>\n",
       "      <td>122.0</td>\n",
       "      <td>Accessories</td>\n",
       "      <td>AbleSisters</td>\n",
       "      <td>ForSale</td>\n",
       "    </tr>\n",
       "    <tr>\n",
       "      <th>2</th>\n",
       "      <td>bandage</td>\n",
       "      <td>Beige</td>\n",
       "      <td>No</td>\n",
       "      <td>140</td>\n",
       "      <td>35.0</td>\n",
       "      <td>Accessories</td>\n",
       "      <td>AbleSisters</td>\n",
       "      <td>ForSale</td>\n",
       "    </tr>\n",
       "    <tr>\n",
       "      <th>3</th>\n",
       "      <td>beak</td>\n",
       "      <td>Yellow</td>\n",
       "      <td>No</td>\n",
       "      <td>490</td>\n",
       "      <td>122.0</td>\n",
       "      <td>Accessories</td>\n",
       "      <td>AbleSisters</td>\n",
       "      <td>ForSale</td>\n",
       "    </tr>\n",
       "    <tr>\n",
       "      <th>4</th>\n",
       "      <td>birthdayshades</td>\n",
       "      <td>Yellow</td>\n",
       "      <td>No</td>\n",
       "      <td>NFS</td>\n",
       "      <td>620.0</td>\n",
       "      <td>Accessories</td>\n",
       "      <td>AbleSisters</td>\n",
       "      <td>Notforsale</td>\n",
       "    </tr>\n",
       "  </tbody>\n",
       "</table>\n",
       "</div>"
      ],
      "text/plain": [
       "             Name Variation DIY  Buy   Sell     Category       Source  \\\n",
       "0       3Dglasses     White  No  490  122.0  Accessories  AbleSisters   \n",
       "1       3Dglasses     Black  No  490  122.0  Accessories  AbleSisters   \n",
       "2         bandage     Beige  No  140   35.0  Accessories  AbleSisters   \n",
       "3            beak    Yellow  No  490  122.0  Accessories  AbleSisters   \n",
       "4  birthdayshades    Yellow  No  NFS  620.0  Accessories  AbleSisters   \n",
       "\n",
       "      Catalog  \n",
       "0     ForSale  \n",
       "1     ForSale  \n",
       "2     ForSale  \n",
       "3     ForSale  \n",
       "4  Notforsale  "
      ]
     },
     "execution_count": 44,
     "metadata": {},
     "output_type": "execute_result"
    }
   ],
   "source": [
    "df.head(5)"
   ]
  },
  {
   "cell_type": "code",
   "execution_count": 45,
   "id": "b848048c",
   "metadata": {
    "scrolled": true
   },
   "outputs": [
    {
     "data": {
      "text/plain": [
       "<AxesSubplot:>"
      ]
     },
     "execution_count": 45,
     "metadata": {},
     "output_type": "execute_result"
    },
    {
     "data": {
      "image/png": "[encoded data removed]",
      "text/plain": [
       "<Figure size 640x480 with 1 Axes>"
      ]
     },
     "metadata": {},
     "output_type": "display_data"
    }
   ],
   "source": [
    "sns.heatmap(df.isnull(),cmap='viridis',cbar=False,yticklabels='False',ax= None,)"
   ]
  },
  {
   "cell_type": "code",
   "execution_count": 46,
   "id": "7e42dce8",
   "metadata": {},
   "outputs": [
    {
     "data": {
      "text/html": [
       "<div>\n",
       "<style scoped>\n",
       "    .dataframe tbody tr th:only-of-type {\n",
       "        vertical-align: middle;\n",
       "    }\n",
       "\n",
       "    .dataframe tbody tr th {\n",
       "        vertical-align: top;\n",
       "    }\n",
       "\n",
       "    .dataframe thead th {\n",
       "        text-align: right;\n",
       "    }\n",
       "</style>\n",
       "<table border=\"1\" class=\"dataframe\">\n",
       "  <thead>\n",
       "    <tr style=\"text-align: right;\">\n",
       "      <th></th>\n",
       "      <th>Name</th>\n",
       "      <th>Variation</th>\n",
       "      <th>DIY</th>\n",
       "      <th>Buy</th>\n",
       "      <th>Sell</th>\n",
       "      <th>Category</th>\n",
       "      <th>Source</th>\n",
       "      <th>Catalog</th>\n",
       "    </tr>\n",
       "  </thead>\n",
       "  <tbody>\n",
       "    <tr>\n",
       "      <th>0</th>\n",
       "      <td>3Dglasses</td>\n",
       "      <td>White</td>\n",
       "      <td>No</td>\n",
       "      <td>490</td>\n",
       "      <td>122.0</td>\n",
       "      <td>Accessories</td>\n",
       "      <td>AbleSisters</td>\n",
       "      <td>ForSale</td>\n",
       "    </tr>\n",
       "    <tr>\n",
       "      <th>2</th>\n",
       "      <td>bandage</td>\n",
       "      <td>Beige</td>\n",
       "      <td>No</td>\n",
       "      <td>140</td>\n",
       "      <td>35.0</td>\n",
       "      <td>Accessories</td>\n",
       "      <td>AbleSisters</td>\n",
       "      <td>ForSale</td>\n",
       "    </tr>\n",
       "    <tr>\n",
       "      <th>3</th>\n",
       "      <td>beak</td>\n",
       "      <td>Yellow</td>\n",
       "      <td>No</td>\n",
       "      <td>490</td>\n",
       "      <td>122.0</td>\n",
       "      <td>Accessories</td>\n",
       "      <td>AbleSisters</td>\n",
       "      <td>ForSale</td>\n",
       "    </tr>\n",
       "    <tr>\n",
       "      <th>4</th>\n",
       "      <td>birthdayshades</td>\n",
       "      <td>Yellow</td>\n",
       "      <td>No</td>\n",
       "      <td>NFS</td>\n",
       "      <td>620.0</td>\n",
       "      <td>Accessories</td>\n",
       "      <td>AbleSisters</td>\n",
       "      <td>Notforsale</td>\n",
       "    </tr>\n",
       "    <tr>\n",
       "      <th>8</th>\n",
       "      <td>bottom-rimmedglasses</td>\n",
       "      <td>Red</td>\n",
       "      <td>No</td>\n",
       "      <td>1100</td>\n",
       "      <td>275.0</td>\n",
       "      <td>Accessories</td>\n",
       "      <td>AbleSisters</td>\n",
       "      <td>ForSale</td>\n",
       "    </tr>\n",
       "    <tr>\n",
       "      <th>...</th>\n",
       "      <td>...</td>\n",
       "      <td>...</td>\n",
       "      <td>...</td>\n",
       "      <td>...</td>\n",
       "      <td>...</td>\n",
       "      <td>...</td>\n",
       "      <td>...</td>\n",
       "      <td>...</td>\n",
       "    </tr>\n",
       "    <tr>\n",
       "      <th>10078</th>\n",
       "      <td>wand</td>\n",
       "      <td>NaN</td>\n",
       "      <td>Yes</td>\n",
       "      <td>NFS</td>\n",
       "      <td>1000.0</td>\n",
       "      <td>Tools</td>\n",
       "      <td>Crafting</td>\n",
       "      <td>Notforsale</td>\n",
       "    </tr>\n",
       "    <tr>\n",
       "      <th>10079</th>\n",
       "      <td>wateringcan</td>\n",
       "      <td>Black</td>\n",
       "      <td>Yes</td>\n",
       "      <td>2400</td>\n",
       "      <td>600.0</td>\n",
       "      <td>Tools</td>\n",
       "      <td>Crafting</td>\n",
       "      <td>Notforsale</td>\n",
       "    </tr>\n",
       "    <tr>\n",
       "      <th>10080</th>\n",
       "      <td>weddingwand</td>\n",
       "      <td>NaN</td>\n",
       "      <td>Yes</td>\n",
       "      <td>NFS</td>\n",
       "      <td>3500.0</td>\n",
       "      <td>Tools</td>\n",
       "      <td>WeddingSeason</td>\n",
       "      <td>Notforsale</td>\n",
       "    </tr>\n",
       "    <tr>\n",
       "      <th>10081</th>\n",
       "      <td>windflowerwand</td>\n",
       "      <td>NaN</td>\n",
       "      <td>Yes</td>\n",
       "      <td>NFS</td>\n",
       "      <td>1580.0</td>\n",
       "      <td>Tools</td>\n",
       "      <td>Crafting</td>\n",
       "      <td>Notforsale</td>\n",
       "    </tr>\n",
       "    <tr>\n",
       "      <th>10082</th>\n",
       "      <td>wornaxe</td>\n",
       "      <td>NaN</td>\n",
       "      <td>No</td>\n",
       "      <td>40</td>\n",
       "      <td>10.0</td>\n",
       "      <td>Tools</td>\n",
       "      <td>MayDayTour</td>\n",
       "      <td>Notforsale</td>\n",
       "    </tr>\n",
       "  </tbody>\n",
       "</table>\n",
       "<p>2883 rows × 8 columns</p>\n",
       "</div>"
      ],
      "text/plain": [
       "                       Name Variation  DIY   Buy    Sell     Category  \\\n",
       "0                 3Dglasses     White   No   490   122.0  Accessories   \n",
       "2                   bandage     Beige   No   140    35.0  Accessories   \n",
       "3                      beak    Yellow   No   490   122.0  Accessories   \n",
       "4            birthdayshades    Yellow   No   NFS   620.0  Accessories   \n",
       "8      bottom-rimmedglasses       Red   No  1100   275.0  Accessories   \n",
       "...                     ...       ...  ...   ...     ...          ...   \n",
       "10078                  wand       NaN  Yes   NFS  1000.0        Tools   \n",
       "10079           wateringcan     Black  Yes  2400   600.0        Tools   \n",
       "10080           weddingwand       NaN  Yes   NFS  3500.0        Tools   \n",
       "10081        windflowerwand       NaN  Yes   NFS  1580.0        Tools   \n",
       "10082               wornaxe       NaN   No    40    10.0        Tools   \n",
       "\n",
       "              Source     Catalog  \n",
       "0        AbleSisters     ForSale  \n",
       "2        AbleSisters     ForSale  \n",
       "3        AbleSisters     ForSale  \n",
       "4        AbleSisters  Notforsale  \n",
       "8        AbleSisters     ForSale  \n",
       "...              ...         ...  \n",
       "10078       Crafting  Notforsale  \n",
       "10079       Crafting  Notforsale  \n",
       "10080  WeddingSeason  Notforsale  \n",
       "10081       Crafting  Notforsale  \n",
       "10082     MayDayTour  Notforsale  \n",
       "\n",
       "[2883 rows x 8 columns]"
      ]
     },
     "execution_count": 46,
     "metadata": {},
     "output_type": "execute_result"
    }
   ],
   "source": [
    "# Data Cleaning \n",
    "df.drop_duplicates(['Name'])"
   ]
  },
  {
   "cell_type": "code",
   "execution_count": 47,
   "id": "7bfdb5f1",
   "metadata": {},
   "outputs": [],
   "source": [
    "df = df.drop('Variation', axis=1)"
   ]
  },
  {
   "cell_type": "code",
   "execution_count": 48,
   "id": "21f8a966",
   "metadata": {},
   "outputs": [
    {
     "data": {
      "text/plain": [
       "<AxesSubplot:>"
      ]
     },
     "execution_count": 48,
     "metadata": {},
     "output_type": "execute_result"
    },
    {
     "data": {
      "image/png": "[encoded data removed]",
      "text/plain": [
       "<Figure size 640x480 with 1 Axes>"
      ]
     },
     "metadata": {},
     "output_type": "display_data"
    }
   ],
   "source": [
    "sns.heatmap(df.isnull(),cmap='viridis',cbar=False,yticklabels='False',ax= None,)"
   ]
  },
  {
   "cell_type": "code",
   "execution_count": 54,
   "id": "52891278",
   "metadata": {},
   "outputs": [
    {
     "data": {
      "image/png": "[encoded data removed]",
      "text/plain": [
       "<Figure size 640x480 with 1 Axes>"
      ]
     },
     "metadata": {},
     "output_type": "display_data"
    }
   ],
   "source": [
    "sns.countplot(x='Category',data=df)\n",
    "ax = sns.countplot(x='Category', data=df)\n",
    "\n",
    "ax.set_xticklabels(ax.get_xticklabels(), rotation=40, ha=\"right\")\n",
    "x = [\"Accessories\",\"Clothes\",\"Flooring\",\"Wallpaper\",\"Rugs\",\"Furniture\",\"Music\",\"RealArt\",\"Tools\"]\n",
    "plt.tight_layout()\n",
    "plt.show()"
   ]
  },
  {
   "cell_type": "code",
   "execution_count": 50,
   "id": "cfca4a80",
   "metadata": {},
   "outputs": [
    {
     "data": {
      "text/plain": [
       "2069.465459057072"
      ]
     },
     "execution_count": 50,
     "metadata": {},
     "output_type": "execute_result"
    }
   ],
   "source": [
    "df.Sell.mean()"
   ]
  },
  {
   "cell_type": "code",
   "execution_count": 64,
   "id": "8fcd75c4",
   "metadata": {},
   "outputs": [
    {
     "data": {
      "text/plain": [
       "300000.0"
      ]
     },
     "execution_count": 64,
     "metadata": {},
     "output_type": "execute_result"
    }
   ],
   "source": [
    "df['Sell'].max()"
   ]
  },
  {
   "cell_type": "code",
   "execution_count": 52,
   "id": "4bbf1656",
   "metadata": {},
   "outputs": [
    {
     "data": {
      "text/plain": [
       "Category\n",
       "Accessories     708.766048\n",
       "Clothes         446.018478\n",
       "Flooring       1550.664773\n",
       "Furniture      3781.603965\n",
       "Music           800.000000\n",
       "RealArt        1245.000000\n",
       "Rugs            606.151515\n",
       "Tools          1321.108247\n",
       "Wallpaper      1510.884615\n",
       "Name: Sell, dtype: float64"
      ]
     },
     "execution_count": 52,
     "metadata": {},
     "output_type": "execute_result"
    }
   ],
   "source": [
    "df.groupby('Category').Sell.mean()"
   ]
  },
  {
   "cell_type": "code",
   "execution_count": 2,
   "id": "1745a59b",
   "metadata": {},
   "outputs": [
    {
     "ename": "NameError",
     "evalue": "name 'df' is not defined",
     "output_type": "error",
     "traceback": [
      "\u001b[0;31m---------------------------------------------------------------------------\u001b[0m",
      "\u001b[0;31mNameError\u001b[0m                                 Traceback (most recent call last)",
      "\u001b[0;32m/var/folders/xy/09zjzv0j0yd1qjsx9zj4gxxr0000gn/T/ipykernel_24643/124312631.py\u001b[0m in \u001b[0;36m<module>\u001b[0;34m\u001b[0m\n\u001b[0;32m----> 1\u001b[0;31m \u001b[0mdf\u001b[0m\u001b[0;34m.\u001b[0m\u001b[0mgroupby\u001b[0m\u001b[0;34m(\u001b[0m\u001b[0;34m'Category'\u001b[0m\u001b[0;34m)\u001b[0m\u001b[0;34m.\u001b[0m\u001b[0mmax\u001b[0m\u001b[0;34m(\u001b[0m\u001b[0;34m)\u001b[0m\u001b[0;34m\u001b[0m\u001b[0;34m\u001b[0m\u001b[0m\n\u001b[0m",
      "\u001b[0;31mNameError\u001b[0m: name 'df' is not defined"
     ]
    }
   ],
   "source": [
    "df.groupby('Category').max()"
   ]
  },
  {
   "cell_type": "code",
   "execution_count": 65,
   "id": "7cdb2081",
   "metadata": {},
   "outputs": [
    {
     "data": {
      "text/html": [
       "<div>\n",
       "<style scoped>\n",
       "    .dataframe tbody tr th:only-of-type {\n",
       "        vertical-align: middle;\n",
       "    }\n",
       "\n",
       "    .dataframe tbody tr th {\n",
       "        vertical-align: top;\n",
       "    }\n",
       "\n",
       "    .dataframe thead th {\n",
       "        text-align: right;\n",
       "    }\n",
       "</style>\n",
       "<table border=\"1\" class=\"dataframe\">\n",
       "  <thead>\n",
       "    <tr style=\"text-align: right;\">\n",
       "      <th></th>\n",
       "      <th>Name</th>\n",
       "      <th>DIY</th>\n",
       "      <th>Buy</th>\n",
       "      <th>Sell</th>\n",
       "      <th>Category</th>\n",
       "      <th>Source</th>\n",
       "      <th>Catalog</th>\n",
       "    </tr>\n",
       "  </thead>\n",
       "  <tbody>\n",
       "    <tr>\n",
       "      <th>1602</th>\n",
       "      <td>royalcrown</td>\n",
       "      <td>No</td>\n",
       "      <td>1200000</td>\n",
       "      <td>300000.0</td>\n",
       "      <td>Accessories</td>\n",
       "      <td>AbleSisters</td>\n",
       "      <td>Forsale</td>\n",
       "    </tr>\n",
       "  </tbody>\n",
       "</table>\n",
       "</div>"
      ],
      "text/plain": [
       "            Name DIY      Buy      Sell     Category       Source  Catalog\n",
       "1602  royalcrown  No  1200000  300000.0  Accessories  AbleSisters  Forsale"
      ]
     },
     "execution_count": 65,
     "metadata": {},
     "output_type": "execute_result"
    }
   ],
   "source": [
    "df[df['Sell']==300000.0]"
   ]
  },
  {
   "cell_type": "code",
   "execution_count": 66,
   "id": "071be1f1",
   "metadata": {},
   "outputs": [
    {
     "data": {
      "text/html": [
       "<div>\n",
       "<style scoped>\n",
       "    .dataframe tbody tr th:only-of-type {\n",
       "        vertical-align: middle;\n",
       "    }\n",
       "\n",
       "    .dataframe tbody tr th {\n",
       "        vertical-align: top;\n",
       "    }\n",
       "\n",
       "    .dataframe thead th {\n",
       "        text-align: right;\n",
       "    }\n",
       "</style>\n",
       "<table border=\"1\" class=\"dataframe\">\n",
       "  <thead>\n",
       "    <tr style=\"text-align: right;\">\n",
       "      <th></th>\n",
       "      <th>Name</th>\n",
       "      <th>DIY</th>\n",
       "      <th>Buy</th>\n",
       "      <th>Sell</th>\n",
       "      <th>Category</th>\n",
       "      <th>Source</th>\n",
       "      <th>Catalog</th>\n",
       "    </tr>\n",
       "  </thead>\n",
       "  <tbody>\n",
       "    <tr>\n",
       "      <th>2972</th>\n",
       "      <td>goldarmor</td>\n",
       "      <td>Yes</td>\n",
       "      <td>NFS</td>\n",
       "      <td>80000.0</td>\n",
       "      <td>Clothes</td>\n",
       "      <td>AbleSisters</td>\n",
       "      <td>Notforsale</td>\n",
       "    </tr>\n",
       "    <tr>\n",
       "      <th>6342</th>\n",
       "      <td>goldencasket</td>\n",
       "      <td>Yes</td>\n",
       "      <td>NFS</td>\n",
       "      <td>80000.0</td>\n",
       "      <td>Furniture</td>\n",
       "      <td>Crafting</td>\n",
       "      <td>Notforsale</td>\n",
       "    </tr>\n",
       "  </tbody>\n",
       "</table>\n",
       "</div>"
      ],
      "text/plain": [
       "              Name  DIY  Buy     Sell   Category       Source     Catalog\n",
       "2972     goldarmor  Yes  NFS  80000.0    Clothes  AbleSisters  Notforsale\n",
       "6342  goldencasket  Yes  NFS  80000.0  Furniture     Crafting  Notforsale"
      ]
     },
     "execution_count": 66,
     "metadata": {},
     "output_type": "execute_result"
    }
   ],
   "source": [
    "df[df['Sell']==80000.0]"
   ]
  },
  {
   "cell_type": "code",
   "execution_count": 67,
   "id": "7040b837",
   "metadata": {},
   "outputs": [
    {
     "data": {
      "text/html": [
       "<div>\n",
       "<style scoped>\n",
       "    .dataframe tbody tr th:only-of-type {\n",
       "        vertical-align: middle;\n",
       "    }\n",
       "\n",
       "    .dataframe tbody tr th {\n",
       "        vertical-align: top;\n",
       "    }\n",
       "\n",
       "    .dataframe thead th {\n",
       "        text-align: right;\n",
       "    }\n",
       "</style>\n",
       "<table border=\"1\" class=\"dataframe\">\n",
       "  <thead>\n",
       "    <tr style=\"text-align: right;\">\n",
       "      <th></th>\n",
       "      <th>Name</th>\n",
       "      <th>DIY</th>\n",
       "      <th>Buy</th>\n",
       "      <th>Sell</th>\n",
       "      <th>Category</th>\n",
       "      <th>Source</th>\n",
       "      <th>Catalog</th>\n",
       "    </tr>\n",
       "  </thead>\n",
       "  <tbody>\n",
       "    <tr>\n",
       "      <th>340</th>\n",
       "      <td>gold-armorshoes</td>\n",
       "      <td>Yes</td>\n",
       "      <td>NFS</td>\n",
       "      <td>40000.0</td>\n",
       "      <td>Accessories</td>\n",
       "      <td>Crafting</td>\n",
       "      <td>Notforsale</td>\n",
       "    </tr>\n",
       "    <tr>\n",
       "      <th>4715</th>\n",
       "      <td>goldenflooring</td>\n",
       "      <td>Yes</td>\n",
       "      <td>NFS</td>\n",
       "      <td>40000.0</td>\n",
       "      <td>Flooring</td>\n",
       "      <td>Crafting</td>\n",
       "      <td>Notforsale</td>\n",
       "    </tr>\n",
       "    <tr>\n",
       "      <th>4912</th>\n",
       "      <td>goldenwall</td>\n",
       "      <td>Yes</td>\n",
       "      <td>NFS</td>\n",
       "      <td>40000.0</td>\n",
       "      <td>Wallpaper</td>\n",
       "      <td>Crafting</td>\n",
       "      <td>Notforsale</td>\n",
       "    </tr>\n",
       "  </tbody>\n",
       "</table>\n",
       "</div>"
      ],
      "text/plain": [
       "                 Name  DIY  Buy     Sell     Category    Source     Catalog\n",
       "340   gold-armorshoes  Yes  NFS  40000.0  Accessories  Crafting  Notforsale\n",
       "4715   goldenflooring  Yes  NFS  40000.0     Flooring  Crafting  Notforsale\n",
       "4912       goldenwall  Yes  NFS  40000.0    Wallpaper  Crafting  Notforsale"
      ]
     },
     "execution_count": 67,
     "metadata": {},
     "output_type": "execute_result"
    }
   ],
   "source": [
    "df[df['Sell']==40000.0]"
   ]
  },
  {
   "cell_type": "code",
   "execution_count": 69,
   "id": "fabaa157",
   "metadata": {},
   "outputs": [
    {
     "data": {
      "text/html": [
       "<div>\n",
       "<style scoped>\n",
       "    .dataframe tbody tr th:only-of-type {\n",
       "        vertical-align: middle;\n",
       "    }\n",
       "\n",
       "    .dataframe tbody tr th {\n",
       "        vertical-align: top;\n",
       "    }\n",
       "\n",
       "    .dataframe thead th {\n",
       "        text-align: right;\n",
       "    }\n",
       "</style>\n",
       "<table border=\"1\" class=\"dataframe\">\n",
       "  <thead>\n",
       "    <tr style=\"text-align: right;\">\n",
       "      <th></th>\n",
       "      <th>Name</th>\n",
       "      <th>DIY</th>\n",
       "      <th>Buy</th>\n",
       "      <th>Sell</th>\n",
       "      <th>Category</th>\n",
       "      <th>Source</th>\n",
       "      <th>Catalog</th>\n",
       "    </tr>\n",
       "  </thead>\n",
       "  <tbody>\n",
       "    <tr>\n",
       "      <th>4908</th>\n",
       "      <td>forestwall</td>\n",
       "      <td>Yes</td>\n",
       "      <td>NFS</td>\n",
       "      <td>44000.0</td>\n",
       "      <td>Wallpaper</td>\n",
       "      <td>Crafting</td>\n",
       "      <td>Notforsale</td>\n",
       "    </tr>\n",
       "  </tbody>\n",
       "</table>\n",
       "</div>"
      ],
      "text/plain": [
       "            Name  DIY  Buy     Sell   Category    Source     Catalog\n",
       "4908  forestwall  Yes  NFS  44000.0  Wallpaper  Crafting  Notforsale"
      ]
     },
     "execution_count": 69,
     "metadata": {},
     "output_type": "execute_result"
    }
   ],
   "source": [
    "df[df['Sell']==44000.0]"
   ]
  },
  {
   "cell_type": "code",
   "execution_count": 71,
   "id": "ac0231cd",
   "metadata": {},
   "outputs": [
    {
     "data": {
      "text/html": [
       "<div>\n",
       "<style scoped>\n",
       "    .dataframe tbody tr th:only-of-type {\n",
       "        vertical-align: middle;\n",
       "    }\n",
       "\n",
       "    .dataframe tbody tr th {\n",
       "        vertical-align: top;\n",
       "    }\n",
       "\n",
       "    .dataframe thead th {\n",
       "        text-align: right;\n",
       "    }\n",
       "</style>\n",
       "<table border=\"1\" class=\"dataframe\">\n",
       "  <thead>\n",
       "    <tr style=\"text-align: right;\">\n",
       "      <th></th>\n",
       "      <th>Name</th>\n",
       "      <th>DIY</th>\n",
       "      <th>Buy</th>\n",
       "      <th>Sell</th>\n",
       "      <th>Category</th>\n",
       "      <th>Source</th>\n",
       "      <th>Catalog</th>\n",
       "    </tr>\n",
       "  </thead>\n",
       "  <tbody>\n",
       "    <tr>\n",
       "      <th>4911</th>\n",
       "      <td>gold-screenwall</td>\n",
       "      <td>Yes</td>\n",
       "      <td>NFS</td>\n",
       "      <td>20750.0</td>\n",
       "      <td>Wallpaper</td>\n",
       "      <td>Crafting</td>\n",
       "      <td>Notforsale</td>\n",
       "    </tr>\n",
       "    <tr>\n",
       "      <th>9962</th>\n",
       "      <td>goldenwand</td>\n",
       "      <td>Yes</td>\n",
       "      <td>NFS</td>\n",
       "      <td>20750.0</td>\n",
       "      <td>Tools</td>\n",
       "      <td>Crafting</td>\n",
       "      <td>Notforsale</td>\n",
       "    </tr>\n",
       "  </tbody>\n",
       "</table>\n",
       "</div>"
      ],
      "text/plain": [
       "                 Name  DIY  Buy     Sell   Category    Source     Catalog\n",
       "4911  gold-screenwall  Yes  NFS  20750.0  Wallpaper  Crafting  Notforsale\n",
       "9962       goldenwand  Yes  NFS  20750.0      Tools  Crafting  Notforsale"
      ]
     },
     "execution_count": 71,
     "metadata": {},
     "output_type": "execute_result"
    }
   ],
   "source": [
    "df[df['Sell']==20750.0]"
   ]
  },
  {
   "cell_type": "code",
   "execution_count": 88,
   "id": "9500ac4f",
   "metadata": {},
   "outputs": [
    {
     "data": {
      "text/html": [
       "<div>\n",
       "<style scoped>\n",
       "    .dataframe tbody tr th:only-of-type {\n",
       "        vertical-align: middle;\n",
       "    }\n",
       "\n",
       "    .dataframe tbody tr th {\n",
       "        vertical-align: top;\n",
       "    }\n",
       "\n",
       "    .dataframe thead th {\n",
       "        text-align: right;\n",
       "    }\n",
       "</style>\n",
       "<table border=\"1\" class=\"dataframe\">\n",
       "  <thead>\n",
       "    <tr style=\"text-align: right;\">\n",
       "      <th></th>\n",
       "      <th>Name</th>\n",
       "      <th>DIY</th>\n",
       "      <th>Buy</th>\n",
       "      <th>Sell</th>\n",
       "      <th>Category</th>\n",
       "      <th>Source</th>\n",
       "      <th>Catalog</th>\n",
       "    </tr>\n",
       "  </thead>\n",
       "  <tbody>\n",
       "    <tr>\n",
       "      <th>1233</th>\n",
       "      <td>crown</td>\n",
       "      <td>No</td>\n",
       "      <td>1000000</td>\n",
       "      <td>250000.0</td>\n",
       "      <td>Accessories</td>\n",
       "      <td>AbleSisters</td>\n",
       "      <td>Forsale</td>\n",
       "    </tr>\n",
       "    <tr>\n",
       "      <th>7420</th>\n",
       "      <td>robothero</td>\n",
       "      <td>Yes</td>\n",
       "      <td>NFS</td>\n",
       "      <td>250000.0</td>\n",
       "      <td>Furniture</td>\n",
       "      <td>Crafting</td>\n",
       "      <td>Notforsale</td>\n",
       "    </tr>\n",
       "  </tbody>\n",
       "</table>\n",
       "</div>"
      ],
      "text/plain": [
       "           Name  DIY      Buy      Sell     Category       Source     Catalog\n",
       "1233      crown   No  1000000  250000.0  Accessories  AbleSisters     Forsale\n",
       "7420  robothero  Yes      NFS  250000.0    Furniture     Crafting  Notforsale"
      ]
     },
     "execution_count": 88,
     "metadata": {},
     "output_type": "execute_result"
    }
   ],
   "source": [
    "df[df['Sell']==250000.0].head(2)"
   ]
  }
 ],
 "metadata": {
  "kernelspec": {
   "display_name": "Python 3 (ipykernel)",
   "language": "python",
   "name": "python3"
  },
  "language_info": {
   "codemirror_mode": {
    "name": "ipython",
    "version": 3
   },
   "file_extension": ".py",
   "mimetype": "text/x-python",
   "name": "python",
   "nbconvert_exporter": "python",
   "pygments_lexer": "ipython3",
   "version": "3.9.13"
  }
 },
 "nbformat": 4,
 "nbformat_minor": 5
}
